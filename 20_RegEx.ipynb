{
 "cells": [
  {
   "cell_type": "markdown",
   "metadata": {},
   "source": [
    "# Regular Expressions"
   ]
  },
  {
   "cell_type": "code",
   "execution_count": null,
   "metadata": {},
   "outputs": [],
   "source": [
    "import re\n",
    "\n",
    "# help(re)\n",
    "dir(re)"
   ]
  },
  {
   "cell_type": "code",
   "execution_count": null,
   "metadata": {},
   "outputs": [],
   "source": [
    "path = r\"c:\\User\\task\\newfile.txt\" # Raw strings"
   ]
  },
  {
   "cell_type": "code",
   "execution_count": null,
   "metadata": {},
   "outputs": [],
   "source": [
    "string = \"The Euro STOXX 600 index, which tracks all stock markets across Europe including the FTSE, fell by 11.48% - the worst day since it launched in 1998. The panic selling prompted by the coronavirus has wiped £2.7tn off the value of STOXX 600 shares since its all-time peak on 19 February.\"\n",
    "\n",
    "import re\n",
    "\n",
    "s = r\"\\d{4}\"\n",
    "print(type(s), s)\n",
    "\n",
    "t = re.compile(s)\n",
    "print(f\"t [{str(t)}] -> {type(t)}\")\n",
    "\n",
    "result = re.findall(t, string)\n",
    "print(type(result), result)\n",
    "\n",
    "print(\"\\n\\n\")\n",
    "\n",
    "result = re.findall(s, string)\n",
    "print(type(result), result)"
   ]
  },
  {
   "cell_type": "code",
   "execution_count": null,
   "metadata": {},
   "outputs": [],
   "source": [
    "import re\n",
    "string = \"The Euro STOXX 600 index, which tracks all stock markets across Europe including the FTSE, fell by 11.48% - the worst day since it launched in 1998. The panic selling prompted by the coronavirus has wiped £2.7tn off the value of STOXX 600 shares since its all-time peak on 19 February.\""
   ]
  },
  {
   "cell_type": "code",
   "execution_count": null,
   "metadata": {},
   "outputs": [],
   "source": [
    "result = re.search(r'\\d{3}', string)\n",
    "\n",
    "print(type(result), result)\n",
    "print(result.span())\n",
    "print(result.start(), \" ----- \", result.end())\n",
    "print(string[result.start(): result.end()])"
   ]
  },
  {
   "cell_type": "code",
   "execution_count": null,
   "metadata": {},
   "outputs": [],
   "source": [
    "res = re.match(r\"\\w{3}\", string)\n",
    "print(res)\n",
    "\n",
    "res = re.match(r\"\\w{4}\", string) # matches the beginning only, else None\n",
    "print(res)"
   ]
  },
  {
   "cell_type": "code",
   "execution_count": null,
   "metadata": {},
   "outputs": [],
   "source": [
    "len(string)"
   ]
  },
  {
   "cell_type": "code",
   "execution_count": null,
   "metadata": {},
   "outputs": [],
   "source": [
    "res = re.fullmatch(r'.{285}', string)\n",
    "print(res)\n",
    "\n",
    "res = re.fullmatch(r'\\w{285}', string)\n",
    "print(res)"
   ]
  },
  {
   "cell_type": "code",
   "execution_count": null,
   "metadata": {},
   "outputs": [],
   "source": [
    "res = re.findall(r'\\d{3}', string)\n",
    "print(res)\n",
    "\n",
    "res = re.findall(r'\\d{5}', string)\n",
    "print(res)"
   ]
  },
  {
   "cell_type": "code",
   "execution_count": null,
   "metadata": {},
   "outputs": [],
   "source": [
    "res = string.split(' ')\n",
    "print(type(res), len(res), res)\n",
    "\n",
    "res = re.split(r'\\s', string)\n",
    "print(type(res), len(res), res)\n"
   ]
  },
  {
   "cell_type": "code",
   "execution_count": null,
   "metadata": {},
   "outputs": [],
   "source": [
    "res = re.sub(r\"[A-Z]{2,}\", \"INDEX\", string)\n",
    "print(type(res), res)\n",
    "\n",
    "res = re.sub(r\"[A-Z]{2,}\", \"INDEX\", string, 2)\n",
    "print(type(res), res)"
   ]
  },
  {
   "cell_type": "code",
   "execution_count": null,
   "metadata": {},
   "outputs": [],
   "source": [
    "res = re.subn(r\"[A-Z]{2,}\", \"INDEX\", string)\n",
    "print(type(res), res)\n",
    "for i in res:\n",
    "    print(i)\n",
    "\n",
    "res = re.subn(r\"[A-Z]{2,}\", \"INDEX\", string, 2)\n",
    "print(type(res), res)\n",
    "for i in res:\n",
    "    print(i)\n"
   ]
  }
 ],
 "metadata": {
  "kernelspec": {
   "display_name": "Python 3",
   "language": "python",
   "name": "python3"
  },
  "language_info": {
   "codemirror_mode": {
    "name": "ipython",
    "version": 3
   },
   "file_extension": ".py",
   "mimetype": "text/x-python",
   "name": "python",
   "nbconvert_exporter": "python",
   "pygments_lexer": "ipython3",
   "version": "3.12.3"
  }
 },
 "nbformat": 4,
 "nbformat_minor": 2
}
