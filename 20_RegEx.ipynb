{
 "cells": [
  {
   "cell_type": "markdown",
   "metadata": {},
   "source": [
    "# Regular Expressions"
   ]
  },
  {
   "cell_type": "code",
   "execution_count": null,
   "metadata": {},
   "outputs": [],
   "source": [
    "import re\n",
    "\n",
    "# help(re)\n",
    "dir(re)"
   ]
  },
  {
   "cell_type": "code",
   "execution_count": null,
   "metadata": {},
   "outputs": [],
   "source": [
    "path = r\"c:\\User\\task\\newfile.txt\" # Raw strings"
   ]
  },
  {
   "cell_type": "code",
   "execution_count": null,
   "metadata": {},
   "outputs": [],
   "source": [
    "string = \"The Euro STOXX 600 index, which tracks all stock markets across Europe including the FTSE, fell by 11.48% - the worst day since it launched in 1998. The panic selling prompted by the coronavirus has wiped £2.7tn off the value of STOXX 600 shares since its all-time peak on 19 February.\"\n",
    "\n",
    "import re\n",
    "\n",
    "s = r\"\\d{4}\"\n",
    "print(type(s), s)\n",
    "\n",
    "t = re.compile(s)\n",
    "print(f\"t [{str(t)}] -> {type(t)}\")\n",
    "\n",
    "result = re.findall(t, string)\n",
    "print(type(result), result)\n",
    "\n",
    "print(\"\\n\\n\")\n",
    "\n",
    "result = re.findall(s, string)\n",
    "print(type(result), result)"
   ]
  },
  {
   "cell_type": "code",
   "execution_count": 22,
   "metadata": {},
   "outputs": [],
   "source": [
    "import re\n",
    "string = \"The Euro STOXX 600 index, which tracks all stock markets across Europe including the FTSE, fell by 11.48% - the worst day since it launched in 1998. The panic selling prompted by the coronavirus has wiped £2.7tn off the value of STOXX 600 shares since its all-time peak on 19 February.\""
   ]
  },
  {
   "cell_type": "code",
   "execution_count": null,
   "metadata": {},
   "outputs": [],
   "source": [
    "result = re.search(r'\\d{3}', string)\n",
    "\n",
    "print(type(result), result)\n",
    "print(result.span())\n",
    "print(result.start(), \" ----- \", result.end())\n",
    "print(string[result.start(): result.end()])"
   ]
  },
  {
   "cell_type": "code",
   "execution_count": null,
   "metadata": {},
   "outputs": [],
   "source": [
    "res = re.match(r\"\\w{3}\", string)\n",
    "print(res)\n",
    "\n",
    "res = re.match(r\"\\w{4}\", string) # matches the beginning only, else None\n",
    "print(res)"
   ]
  },
  {
   "cell_type": "code",
   "execution_count": null,
   "metadata": {},
   "outputs": [],
   "source": [
    "len(string)"
   ]
  },
  {
   "cell_type": "code",
   "execution_count": null,
   "metadata": {},
   "outputs": [],
   "source": [
    "res = re.fullmatch(r'.{285}', string)\n",
    "print(res)\n",
    "\n",
    "res = re.fullmatch(r'\\w{285}', string)\n",
    "print(res)"
   ]
  },
  {
   "cell_type": "code",
   "execution_count": null,
   "metadata": {},
   "outputs": [],
   "source": [
    "res = re.findall(r'\\d{3}', string)\n",
    "print(res)\n",
    "\n",
    "res = re.findall(r'\\d{5}', string)\n",
    "print(res)"
   ]
  },
  {
   "cell_type": "code",
   "execution_count": null,
   "metadata": {},
   "outputs": [],
   "source": [
    "res = string.split(' ')\n",
    "print(type(res), len(res), res)\n",
    "\n",
    "res = re.split(r'\\s', string)\n",
    "print(type(res), len(res), res)\n"
   ]
  },
  {
   "cell_type": "code",
   "execution_count": null,
   "metadata": {},
   "outputs": [],
   "source": [
    "res = re.sub(r\"[A-Z]{2,}\", \"INDEX\", string)\n",
    "print(type(res), res)\n",
    "\n",
    "res = re.sub(r\"[A-Z]{2,}\", \"INDEX\", string, 2)\n",
    "print(type(res), res)"
   ]
  },
  {
   "cell_type": "code",
   "execution_count": null,
   "metadata": {},
   "outputs": [],
   "source": [
    "res = re.subn(r\"[A-Z]{2,}\", \"INDEX\", string)\n",
    "print(type(res), res)\n",
    "for i in res:\n",
    "    print(i)\n",
    "\n",
    "res = re.subn(r\"[A-Z]{2,}\", \"INDEX\", string, 2)\n",
    "print(type(res), res)\n",
    "for i in res:\n",
    "    print(i)"
   ]
  },
  {
   "cell_type": "code",
   "execution_count": 31,
   "metadata": {},
   "outputs": [
    {
     "name": "stdout",
     "output_type": "stream",
     "text": [
      "<class 're.Match'>\n",
      "<re.Match object; span=(0, 285), match='The Euro STOXX 600 index, which tracks all stock >\n",
      "('index', '19 February')\n",
      "index\n",
      "19 February\n",
      "The Euro STOXX 600 index, which tracks all stock markets across Europe including the FTSE, fell by 11.48% - the worst day since it launched in 1998. The panic selling prompted by the coronavirus has wiped £2.7tn off the value of STOXX 600 shares since its all-time peak on 19 February.\n",
      "The Euro STOXX 600 index, which tracks all stock markets across Europe including the FTSE, fell by 11.48% - the worst day since it launched in 1998. The panic selling prompted by the coronavirus has wiped £2.7tn off the value of STOXX 600 shares since its all-time peak on 19 February.\n",
      "('index', '19 February')\n",
      "(19, 24)\n",
      "19 24\n",
      "index\n",
      "(273, 284)\n",
      "273 284\n",
      "19 February\n"
     ]
    }
   ],
   "source": [
    "string = \"The Euro STOXX 600 index, which tracks all stock markets across Europe including the FTSE, fell by 11.48% - the worst day since it launched in 1998. The panic selling prompted by the coronavirus has wiped £2.7tn off the value of STOXX 600 shares since its all-time peak on 19 February.\"\n",
    "res = re.search(r\".+\\s(.+ex).+(\\d\\d\\s.+).\", string)\n",
    "print(type(res))\n",
    "print(res)\n",
    "print(res.groups())\n",
    "print(res.group(1))\n",
    "print(res.group(2))\n",
    "print(res.group(0))\n",
    "print(res.group())      # same as res.group(0)\n",
    "\n",
    "print(res.group(1, 2))\n",
    "\n",
    "print(res.span(1))\n",
    "print(res.start(1), res.end(1))\n",
    "print(string[res.start(1): res.end(1)])\n",
    "\n",
    "print(res.span(2))\n",
    "print(res.start(2), res.end(2))\n",
    "print(string[res.start(2):res.end(2)])\n"
   ]
  },
  {
   "cell_type": "code",
   "execution_count": 45,
   "metadata": {},
   "outputs": [
    {
     "name": "stdout",
     "output_type": "stream",
     "text": [
      "['the', 'the', 'the', 'the']\n",
      "['The', 'the', 'the', 'The', 'the', 'the']\n",
      "[]\n",
      "['The']\n",
      "['the', 'The', 'the']\n",
      "8 ['This string is a ', 'multiline comment', 'for testing', 'the behavious ', 'of the method.', 'The test results will ', 'be based on ', 'these characters here.']\n",
      "1 ['This string is a \\nmultiline comment\\nfor testing\\nthe behavious \\nof the method.\\nThe test results will \\nbe based on \\nthese characters here.']\n",
      "<re.Match object; span=(0, 285), match='The Euro STOXX 600 index, which tracks all stock >\n",
      "('index', '19 February')\n"
     ]
    }
   ],
   "source": [
    "# Optional flags -  Third argument\n",
    "# re.I - IGNORECASE\n",
    "# re.M - MULTILINE\n",
    "# re.S - DOTALL\n",
    "# re.X - VERBOSE\n",
    "# flags = re.I | re.M | re.S | re.X\n",
    "\n",
    "\n",
    "## Ignore case\n",
    "string = \"The Euro STOXX 600 index, which tracks all stock markets across Europe including the FTSE, fell by 11.48% - the worst day since it launched in 1998. The panic selling prompted by the coronavirus has wiped £2.7tn off the value of STOXX 600 shares since its all-time peak on 19 February.\"\n",
    "res = re.findall(r'the', string)\n",
    "print(res)\n",
    "\n",
    "res = re.findall(r'the', string, re.I)\n",
    "print(res)\n",
    "\n",
    "## Multiline\n",
    "string2 = '''This string is a \n",
    "multiline comment\n",
    "for testing\n",
    "the behavious \n",
    "of the method.\n",
    "The test results will \n",
    "be based on \n",
    "these characters here.'''\n",
    "\n",
    "res = re.findall(r\"^The\", string2)\n",
    "print(res)\n",
    "\n",
    "res = re.findall(r\"^The\", string2, re.M)\n",
    "print(res)\n",
    "\n",
    "res = re.findall(r\"^The\", string2, re.M|re.I)\n",
    "print(res)\n",
    "\n",
    "## Dotall\n",
    "res = re.findall(r\".+\", string2)\n",
    "print(len(res), res)\n",
    "\n",
    "res = re.findall(r\".+\", string2, re.S)\n",
    "print(len(res), res)\n",
    "\n",
    "## Verbose\n",
    "res = re.search(r'''.+\\s    # Beginning of the string\n",
    "                (.+ex)      # Searching for index\n",
    "                .+          # Middle of the string\n",
    "                (\\d\\d\\s.+)  # Date at the end\n",
    "                .''', string, re.X)\n",
    "print(res)\n",
    "print(res.groups())\n"
   ]
  },
  {
   "cell_type": "markdown",
   "metadata": {},
   "source": [
    "### Metacharacters and Special sequences"
   ]
  },
  {
   "cell_type": "code",
   "execution_count": 47,
   "metadata": {},
   "outputs": [
    {
     "name": "stdout",
     "output_type": "stream",
     "text": [
      "['The']\n",
      "['Thi', 'mul', 'for', 'the', 'The', 'the']\n"
     ]
    }
   ],
   "source": [
    "# . - Matches everything other than newline; if flag re.S is provided, it matches everything, including newline\n",
    "# ^ - Matches the beginning of each line, not beginnning of the entire string\n",
    "res = re.findall(r\"^\\w{3}\", string)\n",
    "print(res)\n",
    "res = re.findall(r\"^\\w{3}\", string2, re.M)\n",
    "print(res)\n"
   ]
  },
  {
   "cell_type": "code",
   "execution_count": 49,
   "metadata": {},
   "outputs": [
    {
     "name": "stdout",
     "output_type": "stream",
     "text": [
      "['February']\n",
      "['behavious', 'method', 'will', 'on', 'here']\n"
     ]
    }
   ],
   "source": [
    "# $ - Matches at the end of each line, as opposed to end of entire string\n",
    "\n",
    "res = re.findall(r\"\\s(\\w{2,})\\W$\", string)\n",
    "print(res)\n",
    "\n",
    "res = re.findall(r\"\\s(\\w{2,})\\W$\", string2, re.M)\n",
    "print(res)"
   ]
  },
  {
   "cell_type": "code",
   "execution_count": 52,
   "metadata": {},
   "outputs": [
    {
     "name": "stdout",
     "output_type": "stream",
     "text": [
      "['600', '11', '48', '1998', '600', '19']\n",
      "['Euro STOXX 600 index, which tracks all stock markets across Europe including the FTSE, fell by 11.48% - the worst day since it launched in 1998. The panic selling prompted by the coronavirus has wiped £2.7tn off the value of STOXX 600 shares since its all-time peak on 19 February.']\n",
      "['Euro', 'Europe', 'E']\n"
     ]
    }
   ],
   "source": [
    "# * - matches 0 or more, with as many repitions as possible; Greedy\n",
    "\n",
    "res = re.findall(r\"\\d\\d\\d*\", string)\n",
    "print(res)\n",
    "\n",
    "res = re.findall(r\"E.*\", string)\n",
    "print(res)\n",
    "\n",
    "res = re.findall(r\"E\\w*\", string)\n",
    "print(res)"
   ]
  },
  {
   "cell_type": "code",
   "execution_count": 53,
   "metadata": {},
   "outputs": [
    {
     "name": "stdout",
     "output_type": "stream",
     "text": [
      "['600', '1998', '600']\n",
      "['Euro STOXX 600 index, which tracks all stock markets across Europe including the FTSE, fell by 11.48% - the worst day since it launched in 1998. The panic selling prompted by the coronavirus has wiped £2.7tn off the value of STOXX 600 shares since its all-time peak on 19 February.']\n",
      "['Euro', 'Europe']\n"
     ]
    }
   ],
   "source": [
    "# + - matches 1 or more, with as many repitions as possible; Greedy\n",
    "\n",
    "res = re.findall(r\"\\d\\d\\d+\", string)\n",
    "print(res)\n",
    "\n",
    "res = re.findall(r\"E.+\", string)\n",
    "print(res)\n",
    "\n",
    "res = re.findall(r\"E\\w+\", string)\n",
    "print(res)"
   ]
  },
  {
   "cell_type": "code",
   "execution_count": 54,
   "metadata": {},
   "outputs": [
    {
     "name": "stdout",
     "output_type": "stream",
     "text": [
      "['600', '11', '48', '199', '600', '19']\n",
      "['Eu', 'Eu', 'E,']\n",
      "['Eu', 'Eu', 'E']\n"
     ]
    }
   ],
   "source": [
    "# ? - matches 0 or 1; Non-Greedy\n",
    "\n",
    "res = re.findall(r\"\\d\\d\\d?\", string)\n",
    "print(res)\n",
    "\n",
    "res = re.findall(r\"E.?\", string)\n",
    "print(res)\n",
    "\n",
    "res = re.findall(r\"E\\w?\", string)\n",
    "print(res)"
   ]
  },
  {
   "cell_type": "code",
   "execution_count": 57,
   "metadata": {},
   "outputs": [
    {
     "name": "stdout",
     "output_type": "stream",
     "text": [
      "['600', '11', '48', '1998', '600', '19']\n",
      "['60', '11', '48', '19', '98', '60', '19']\n",
      "['Euro STOXX 600 index, which tracks all stock markets across Europe including the FTSE, fell by 11.48% - the worst day since it launched in 1998. The panic selling prompted by the coronavirus has wiped £2.7tn off the value of STOXX 600 shares since its all-time peak on 19 February.']\n",
      "['E', 'E', 'E']\n",
      "['Euro', 'Europe', 'E']\n",
      "['E', 'E', 'E']\n",
      "\n",
      "['600', '1998', '600']\n",
      "['600', '199', '600']\n",
      "['Euro STOXX 600 index, which tracks all stock markets across Europe including the FTSE, fell by 11.48% - the worst day since it launched in 1998. The panic selling prompted by the coronavirus has wiped £2.7tn off the value of STOXX 600 shares since its all-time peak on 19 February.']\n",
      "['Eu', 'Eu', 'E,']\n",
      "['Euro', 'Europe']\n",
      "['Eu', 'Eu']\n",
      "\n",
      "['600', '11', '48', '199', '600', '19']\n",
      "['60', '11', '48', '19', '98', '60', '19']\n"
     ]
    }
   ],
   "source": [
    "# Overriding the greedy behaviour of * & +\n",
    "\n",
    "# * \n",
    "res = re.findall(r\"\\d\\d\\d*\", string)\n",
    "print(res)\n",
    "\n",
    "res = re.findall(r\"\\d\\d\\d*?\", string)\n",
    "print(res)\n",
    "\n",
    "res = re.findall(r\"E.*\", string)\n",
    "print(res)\n",
    "\n",
    "res = re.findall(r\"E.*?\", string)\n",
    "print(res)\n",
    "\n",
    "res = re.findall(r\"E\\w*\", string)\n",
    "print(res)\n",
    "\n",
    "res = re.findall(r\"E\\w*?\", string)\n",
    "print(res)\n",
    "\n",
    "print()\n",
    "\n",
    "# +\n",
    "res = re.findall(r\"\\d\\d\\d+\", string)\n",
    "print(res)\n",
    "\n",
    "res = re.findall(r\"\\d\\d\\d+?\", string)\n",
    "print(res)\n",
    "\n",
    "res = re.findall(r\"E.+\", string)\n",
    "print(res)\n",
    "\n",
    "res = re.findall(r\"E.+?\", string)\n",
    "print(res)\n",
    "\n",
    "res = re.findall(r\"E\\w+\", string)\n",
    "print(res)\n",
    "\n",
    "res = re.findall(r\"E\\w+?\", string)\n",
    "print(res)\n",
    "\n",
    "print()\n",
    "\n",
    "# ?\n",
    "res = re.findall(r\"\\d\\d\\d?\", string)\n",
    "print(res)\n",
    "\n",
    "res = re.findall(r\"\\d\\d\\d??\", string)\n",
    "print(res)"
   ]
  },
  {
   "cell_type": "code",
   "execution_count": null,
   "metadata": {},
   "outputs": [],
   "source": [
    "# \\\n",
    "# 1. Special sequences - \\A, \\b. \\B, \\d, \\D, \\s, \\s, \\w, \\W, etc.\n",
    "# 2. Escape character - \\. \\? \\[ \\]"
   ]
  },
  {
   "cell_type": "code",
   "execution_count": 75,
   "metadata": {},
   "outputs": [
    {
     "name": "stdout",
     "output_type": "stream",
     "text": [
      "['Eu', 'Eu', 'au', 'ue', 'ea', 'ua']\n",
      "['x', 'w', 'k', 'k', 'k', 'w', 'w', 'k']\n"
     ]
    }
   ],
   "source": [
    "# [] - creates a class of characters\n",
    "res = re.findall(r\"[aeiou]{2,}\", string, re.I)\n",
    "print(res)\n",
    "\n",
    "res = re.findall(r\"[wxkq]\", string)\n",
    "print(res)\n",
    "\n",
    "# [A-Z]  [a-z] [0-9] [A-Za-z0-9]"
   ]
  },
  {
   "cell_type": "code",
   "execution_count": 62,
   "metadata": {},
   "outputs": [
    {
     "name": "stdout",
     "output_type": "stream",
     "text": [
      "<re.Match object; span=(15, 18), match='600'>\n"
     ]
    }
   ],
   "source": [
    "# {} - specifies the no. of occurances\n",
    "# {5}   {3,}  {3,6}\n",
    "\n",
    "# | - Pipe; \n",
    "# A|B|C - where each A, B, c are distinct regular expressions, A|B|C matches either A, B or C\n",
    "\n",
    "res = re.search(r\"\\d{3}|\\d{4}|\\b[A-Z]{4}\\b\", string)\n",
    "print(res)\n"
   ]
  },
  {
   "cell_type": "code",
   "execution_count": 67,
   "metadata": {},
   "outputs": [
    {
     "data": {
      "text/plain": [
       "[]"
      ]
     },
     "execution_count": 67,
     "metadata": {},
     "output_type": "execute_result"
    }
   ],
   "source": [
    "# \\A - Matches the beginning of the string, not line\n",
    "# \\Z = Matches the end of the string, not line\n",
    "\n",
    "# \\b - word boundary\n",
    "# \\B - Opposite of \\b; Matches the empty string not bordering the word\n",
    "\n",
    "re.findall(r\"\\b\\w{10,}\\b\", string)\n",
    "re.findall(r\"\\bEuro\\b\", string)\n",
    "\n",
    "re.findall(r\"\\Bcross\", string)\n",
    "re.findall(r\"cross\\B\", string)"
   ]
  },
  {
   "cell_type": "code",
   "execution_count": null,
   "metadata": {},
   "outputs": [],
   "source": [
    "# \\d - any digit from 0-9\n",
    "# \\D - any nondigit character\n",
    "\n",
    "# \\s - any whitespace (space, tab, newline, return, formfeed, vertical tab) [ \\t\\n\\r\\f\\v]\n",
    "# \\S - any non-whitespace character\n",
    "\n",
    "# \\w - any alphanumeric character\n",
    "# \\W = Opposite of \\w"
   ]
  }
 ],
 "metadata": {
  "kernelspec": {
   "display_name": "Python 3",
   "language": "python",
   "name": "python3"
  },
  "language_info": {
   "codemirror_mode": {
    "name": "ipython",
    "version": 3
   },
   "file_extension": ".py",
   "mimetype": "text/x-python",
   "name": "python",
   "nbconvert_exporter": "python",
   "pygments_lexer": "ipython3",
   "version": "3.12.3"
  }
 },
 "nbformat": 4,
 "nbformat_minor": 2
}
