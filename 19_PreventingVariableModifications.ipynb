{
 "cells": [
  {
   "cell_type": "markdown",
   "metadata": {},
   "source": [
    "## Preventing Variable Modifications"
   ]
  },
  {
   "cell_type": "code",
   "execution_count": 1,
   "metadata": {},
   "outputs": [
    {
     "data": {
      "text/plain": [
       "([1, 2, 3, 4, 5], (1, 2, 3, 4))"
      ]
     },
     "execution_count": 1,
     "metadata": {},
     "output_type": "execute_result"
    }
   ],
   "source": [
    "# 1. Use Immutable Types\n",
    "# Mutable Non-Homogeneous Collection\n",
    "lst = list((1, 2, 3, 4, 5)) # []\n",
    "\n",
    "# Immutable \n",
    "tp = tuple([1, 2, 3, 4])\n",
    "\n",
    "lst, tp"
   ]
  },
  {
   "cell_type": "code",
   "execution_count": 6,
   "metadata": {},
   "outputs": [
    {
     "name": "stdout",
     "output_type": "stream",
     "text": [
      "Val[10], Data[100]\n",
      "Val[20], Data[100]\n",
      "200\n",
      "Val[20], Data[300]\n"
     ]
    }
   ],
   "source": [
    "# 2. Encapsulating with Classes\n",
    "class MyType:\n",
    "    def __init__(self) -> None:\n",
    "        self.val = 10\n",
    "        self.__data  =100\n",
    "\n",
    "    @property\n",
    "    def Val(self):\n",
    "        return self.val\n",
    "    \n",
    "    # @Val.setter\n",
    "    # def Val(self, value):\n",
    "    #     self.val = value\n",
    "\n",
    "    def __str__(self):\n",
    "        return f\"Val[{self.val}], Data[{self.__data}]\"\n",
    "\n",
    "obj1 = MyType()\n",
    "\n",
    "# obj1.Val =  20  # Attribute Error- No setter [Only read access via property]\n",
    "print(obj1)\n",
    "obj1.val = 20\n",
    "print(obj1)\n",
    "obj1.__data = 200\n",
    "obj1._MyType__data = 300\n",
    "print(obj1.__data)\n",
    "print(obj1)"
   ]
  },
  {
   "cell_type": "code",
   "execution_count": null,
   "metadata": {},
   "outputs": [],
   "source": [
    "# 3. Use Constants\n",
    "PI = 22/7\n",
    "ONE_THIRD = 1/3\n",
    "DB_USER = \"admin\""
   ]
  },
  {
   "cell_type": "code",
   "execution_count": null,
   "metadata": {},
   "outputs": [],
   "source": [
    "# 4. Freezing Objects\n",
    "st = {1, 2, 3, 4, 2, 3}\n",
    "fst = frozenset(1, 2, 3,4, 2, 3)"
   ]
  },
  {
   "cell_type": "code",
   "execution_count": 13,
   "metadata": {},
   "outputs": [
    {
     "ename": "TypeError",
     "evalue": "'module' object is not callable. Did you mean: 'attr.attr(...)'?",
     "output_type": "error",
     "traceback": [
      "\u001b[1;31m---------------------------------------------------------------------------\u001b[0m",
      "\u001b[1;31mTypeError\u001b[0m                                 Traceback (most recent call last)",
      "Cell \u001b[1;32mIn[13], line 5\u001b[0m\n\u001b[0;32m      1\u001b[0m \u001b[38;5;66;03m# 5. Use third party libraries\u001b[39;00m\n\u001b[0;32m      3\u001b[0m \u001b[38;5;28;01mimport\u001b[39;00m \u001b[38;5;21;01mattr\u001b[39;00m\n\u001b[1;32m----> 5\u001b[0m \u001b[38;5;129m@attr\u001b[39m\u001b[43m(\u001b[49m\u001b[43mfrozen\u001b[49m\u001b[38;5;241;43m=\u001b[39;49m\u001b[38;5;28;43;01mTrue\u001b[39;49;00m\u001b[43m)\u001b[49m\n\u001b[0;32m      6\u001b[0m \u001b[38;5;28;01mclass\u001b[39;00m \u001b[38;5;21;01mPoint\u001b[39;00m:\n\u001b[0;32m      7\u001b[0m     x \u001b[38;5;241m=\u001b[39m attr\u001b[38;5;241m.\u001b[39mib()\n\u001b[0;32m      8\u001b[0m     y \u001b[38;5;241m=\u001b[39m attr\u001b[38;5;241m.\u001b[39mib()\n",
      "\u001b[1;31mTypeError\u001b[0m: 'module' object is not callable. Did you mean: 'attr.attr(...)'?"
     ]
    }
   ],
   "source": [
    "# 5. Use third party libraries\n",
    "\n",
    "import attr\n",
    "\n",
    "@attr(frozen=True)\n",
    "class Point:\n",
    "    x = attr.ib()\n",
    "    y = attr.ib()\n",
    "    # def __init__(self) -> None:\n",
    "    #     self.x = attr.ib()\n",
    "    #     self.y = attr.ib()\n",
    "\n",
    "point = Point(1, 2)\n",
    "\n",
    "point.x = 10\n"
   ]
  }
 ],
 "metadata": {
  "kernelspec": {
   "display_name": "Python 3",
   "language": "python",
   "name": "python3"
  },
  "language_info": {
   "codemirror_mode": {
    "name": "ipython",
    "version": 3
   },
   "file_extension": ".py",
   "mimetype": "text/x-python",
   "name": "python",
   "nbconvert_exporter": "python",
   "pygments_lexer": "ipython3",
   "version": "3.12.3"
  }
 },
 "nbformat": 4,
 "nbformat_minor": 2
}
