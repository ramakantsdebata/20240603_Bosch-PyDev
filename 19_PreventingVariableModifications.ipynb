{
 "cells": [
  {
   "cell_type": "markdown",
   "metadata": {},
   "source": [
    "## Preventing Variable Modifications"
   ]
  },
  {
   "cell_type": "code",
   "execution_count": null,
   "metadata": {},
   "outputs": [],
   "source": [
    "# 1. Use Immutable Types\n",
    "# Mutable Non-Homogeneous Collection\n",
    "lst = list((1, 2, 3, 4, 5)) # []\n",
    "\n",
    "# Immutable \n",
    "tp = tuple([1, 2, 3, 4])\n",
    "\n",
    "lst, tp"
   ]
  },
  {
   "cell_type": "code",
   "execution_count": null,
   "metadata": {},
   "outputs": [],
   "source": [
    "# 2. Encapsulating with Classes\n",
    "class MyType:\n",
    "    def __init__(self) -> None:\n",
    "        self.val = 10\n",
    "        self.__data  =100\n",
    "\n",
    "    @property\n",
    "    def Val(self):\n",
    "        return self.val\n",
    "    \n",
    "    # @Val.setter\n",
    "    # def Val(self, value):\n",
    "    #     self.val = value\n",
    "\n",
    "    def __str__(self):\n",
    "        return f\"Val[{self.val}], Data[{self.__data}]\"\n",
    "\n",
    "obj1 = MyType()\n",
    "\n",
    "# obj1.Val =  20  # Attribute Error- No setter [Only read access via property]\n",
    "print(obj1)\n",
    "obj1.val = 20\n",
    "print(obj1)\n",
    "obj1.__data = 200\n",
    "obj1._MyType__data = 300\n",
    "print(obj1.__data)\n",
    "print(obj1)"
   ]
  },
  {
   "cell_type": "code",
   "execution_count": null,
   "metadata": {},
   "outputs": [],
   "source": [
    "# 3. Use Constants\n",
    "PI = 22/7\n",
    "ONE_THIRD = 1/3\n",
    "DB_USER = \"admin\""
   ]
  },
  {
   "cell_type": "code",
   "execution_count": null,
   "metadata": {},
   "outputs": [],
   "source": [
    "# 4. Freezing Objects\n",
    "st = {1, 2, 3, 4, 2, 3}\n",
    "fst = frozenset(1, 2, 3,4, 2, 3)"
   ]
  },
  {
   "cell_type": "code",
   "execution_count": null,
   "metadata": {},
   "outputs": [],
   "source": [
    "# 5. Use third party libraries\n",
    "# [[ NOTE: This won't run properly on iPython. Create a '.py' script and execute it with the py command/launcher ]]\n",
    "\n",
    "import attr\n",
    "\n",
    "@attr.s(frozen=True)\n",
    "class Point:\n",
    "    x = attr.ib()\n",
    "    y = attr.ib()\n",
    "\n",
    "point = Point(1, 2)\n",
    "\n",
    "point.x = 10"
   ]
  }
 ],
 "metadata": {
  "kernelspec": {
   "display_name": "Python 3",
   "language": "python",
   "name": "python3"
  },
  "language_info": {
   "codemirror_mode": {
    "name": "ipython",
    "version": 3
   },
   "file_extension": ".py",
   "mimetype": "text/x-python",
   "name": "python",
   "nbconvert_exporter": "python",
   "pygments_lexer": "ipython3",
   "version": "3.12.3"
  }
 },
 "nbformat": 4,
 "nbformat_minor": 2
}
